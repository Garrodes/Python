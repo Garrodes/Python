{
 "cells": [
  {
   "cell_type": "code",
   "execution_count": null,
   "id": "373d0985-a810-411e-a78a-8a635bc3fa10",
   "metadata": {},
   "outputs": [],
   "source": [
    "import pandas as pd\n",
    "from sklearn.ensemble import RandomForestRegressor\n",
    "from sklearn.pipeline import Pipeline\n",
    "from sklearn.impute import SimpleImputer\n",
    "from sklearn.model_selection import cross_val_score"
   ]
  },
  {
   "cell_type": "markdown",
   "id": "b91c50e3-88d5-41f7-a6fd-d511d0be50f9",
   "metadata": {},
   "source": [
    "# Fonctions pour affiner les modèles"
   ]
  },
  {
   "cell_type": "markdown",
   "id": "d0ce5b1a-6e4e-41fb-a85a-f455c6b3c1c6",
   "metadata": {},
   "source": [
    "Le but de ce notebook est de répertorier différentes fonctions qui vont permettre d'ajuster les paramètres de modèles pour avoir la MAE la plus minime possible"
   ]
  },
  {
   "cell_type": "markdown",
   "id": "58bf0098-aa38-460a-be78-273ae887f9db",
   "metadata": {},
   "source": [
    "## RandomForest "
   ]
  },
  {
   "cell_type": "markdown",
   "id": "e7137064-6894-4d0d-b6c6-9dc3d74acd8d",
   "metadata": {},
   "source": [
    "### Cross Validation "
   ]
  },
  {
   "cell_type": "markdown",
   "id": "f37200ec-9390-4c8b-bf12-8b5851ca705a",
   "metadata": {},
   "source": [
    "Parametrage des n_estimators avec un cv donné"
   ]
  },
  {
   "cell_type": "code",
   "execution_count": null,
   "id": "7528548e-ad96-45d5-b7e2-0dd05b6b9d55",
   "metadata": {},
   "outputs": [],
   "source": [
    "def get_score(n_estimators, cv):\n",
    "    \"\"\"Return the average MAE of random forest model.\n",
    "    \n",
    "    Keyword argument:\n",
    "    n_estimators -- the number of trees in the forest\n",
    "    cv --- number of validation\n",
    "    \"\"\"\n",
    "    pipeline = Pipeline(steps=[('imputer',SimpleImputer()),('model',RandomForestRegressor(n_estimators = n_estimators, random_state=0))])\n",
    "    scores = -1 * cross_val_score(pipeline, X, y,\n",
    "                              cv=cv,\n",
    "                              scoring='neg_mean_absolute_error')\n",
    "    return scores.mean()"
   ]
  },
  {
   "cell_type": "markdown",
   "id": "7a97b033-d2cc-45a3-a17a-c72b789d2a9c",
   "metadata": {},
   "source": [
    "## XG-Boost "
   ]
  },
  {
   "cell_type": "markdown",
   "id": "6859f777-f4c8-4788-abd3-cdf869d16709",
   "metadata": {},
   "source": [
    "Parametrage des n_estimators"
   ]
  },
  {
   "cell_type": "code",
   "execution_count": 2,
   "id": "ae296f68-5601-4c6e-8c16-b4c126525cf7",
   "metadata": {},
   "outputs": [],
   "source": [
    "def get_score_XGBoost(n_estimator):\n",
    "    model = XGBRegressor(n_estimators=n_estimator, random_state=0)\n",
    "    model.fit(X_train,y_train)\n",
    "    preds = model.predict(X_valid)\n",
    "    return mean_absolute_error(preds, y_valid)"
   ]
  },
  {
   "cell_type": "markdown",
   "id": "bcd166aa-eaf7-4941-8041-a56e387465c4",
   "metadata": {},
   "source": [
    "Parametrage du learning_rate"
   ]
  },
  {
   "cell_type": "code",
   "execution_count": null,
   "id": "e13aa1c7-3061-4ce0-946d-d06059a4dfa0",
   "metadata": {},
   "outputs": [],
   "source": [
    "def get_score_XGB_lr(learning_rate):\n",
    "    model = XGBRegressor(n_estimators = 1000, learning_rate= learning_rate, random_state=0)\n",
    "    model.fit(X_train,y_train)\n",
    "    preds = model.predict(X_valid)\n",
    "    return mean_absolute_error(preds, y_valid)"
   ]
  }
 ],
 "metadata": {
  "kernelspec": {
   "display_name": "Python 3 (ipykernel)",
   "language": "python",
   "name": "python3"
  },
  "language_info": {
   "codemirror_mode": {
    "name": "ipython",
    "version": 3
   },
   "file_extension": ".py",
   "mimetype": "text/x-python",
   "name": "python",
   "nbconvert_exporter": "python",
   "pygments_lexer": "ipython3",
   "version": "3.10.9"
  }
 },
 "nbformat": 4,
 "nbformat_minor": 5
}
